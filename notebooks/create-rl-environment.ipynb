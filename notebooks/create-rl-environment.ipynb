{
 "cells": [
  {
   "cell_type": "code",
   "execution_count": 1,
   "id": "143d5618-7816-4fa4-b906-cb63f7b4860a",
   "metadata": {},
   "outputs": [],
   "source": [
    "from tradingenv import TradingEnv\n",
    "from tradingenv.contracts import ETF\n",
    "from tradingenv.spaces import BoxPortfolio\n",
    "from tradingenv.state import IState\n",
    "from tradingenv.rewards import RewardLogReturn\n",
    "from tradingenv.broker.fees import BrokerFees\n",
    "from tradingenv.policy import AbstractPolicy\n",
    "import yfinance"
   ]
  },
  {
   "cell_type": "markdown",
   "id": "2ab9d40a-3c08-4811-9c18-3d77b0583a1f",
   "metadata": {},
   "source": [
    "# Download data"
   ]
  },
  {
   "cell_type": "code",
   "execution_count": 2,
   "id": "efd59dc3-3d3c-4751-b6b7-54d1d290a367",
   "metadata": {},
   "outputs": [
    {
     "name": "stdout",
     "output_type": "stream",
     "text": [
      "[*********************100%%**********************]  2 of 2 completed\n"
     ]
    }
   ],
   "source": [
    "# Load prices of SPY ETF from Yahoo Finance.\n",
    "prices = yfinance.Tickers(['SPY', 'TLT']).history(period=\"12mo\")['Close'].tz_localize(None)\n",
    "\n",
    "# Set contract type.\n",
    "prices.columns = [ETF('SPY'), ETF('TLT')]"
   ]
  },
  {
   "cell_type": "markdown",
   "id": "bc4007b0-ea57-4843-bdc0-45fa820fb0c4",
   "metadata": {},
   "source": [
    "# Create the trading environment"
   ]
  },
  {
   "cell_type": "code",
   "execution_count": 3,
   "id": "c764668a-3666-4fdf-9b59-ec3a2dd7f792",
   "metadata": {},
   "outputs": [],
   "source": [
    "# Instance the trading environment.\n",
    "env = TradingEnv(\n",
    "    action_space=BoxPortfolio(prices.columns, low=-1, high=+1, as_weights=True),\n",
    "    state=IState(),\n",
    "    reward=RewardLogReturn(),\n",
    "    prices=prices,\n",
    "    initial_cash=1_000_000,\n",
    "    latency=0,                # seconds\n",
    "    steps_delay=1,            # trades are implemented with a delay on one step\n",
    "    broker_fees=BrokerFees(\n",
    "        markup=0.005,         # 0.5% broker makup on deposit rate\n",
    "        proportional=0.0001,  # 0.01% fee of traded notional\n",
    "        fixed=1,              # $1 per trade\n",
    "    ),\n",
    ")"
   ]
  },
  {
   "cell_type": "markdown",
   "id": "6b30e7e8-6468-4184-8bb3-5e05d2636ffa",
   "metadata": {},
   "source": [
    "# Run an episode"
   ]
  },
  {
   "cell_type": "code",
   "execution_count": 4,
   "id": "bfcf8bb2-4a12-400d-991e-40bbfcba28b8",
   "metadata": {},
   "outputs": [
    {
     "data": {
      "text/plain": [
       "-0.2320179882088807"
      ]
     },
     "execution_count": 4,
     "metadata": {},
     "output_type": "execute_result"
    }
   ],
   "source": [
    "# OpenAI/gym protocol.\n",
    "obs = env.reset()\n",
    "done = False\n",
    "total_reward = 0\n",
    "while not done:\n",
    "    action = env.action_space.sample()\n",
    "    obs, reward, done, info = env.step(action)\n",
    "    total_reward += reward\n",
    "total_reward"
   ]
  }
 ],
 "metadata": {
  "kernelspec": {
   "display_name": "Python 3 (ipykernel)",
   "language": "python",
   "name": "python3"
  },
  "language_info": {
   "codemirror_mode": {
    "name": "ipython",
    "version": 3
   },
   "file_extension": ".py",
   "mimetype": "text/x-python",
   "name": "python",
   "nbconvert_exporter": "python",
   "pygments_lexer": "ipython3",
   "version": "3.10.12"
  }
 },
 "nbformat": 4,
 "nbformat_minor": 5
}
