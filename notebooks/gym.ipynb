{
 "cells": [
  {
   "cell_type": "code",
   "execution_count": 18,
   "id": "143d5618-7816-4fa4-b906-cb63f7b4860a",
   "metadata": {},
   "outputs": [],
   "source": [
    "from tradingenv import TradingEnv\n",
    "from tradingenv.contracts import ETF\n",
    "from tradingenv.spaces import BoxPortfolio\n",
    "from tradingenv.state import IState\n",
    "from tradingenv.rewards import RewardLogReturn\n",
    "from tradingenv.broker.fees import BrokerFees\n",
    "import yfinance"
   ]
  },
  {
   "cell_type": "code",
   "execution_count": 35,
   "id": "48b594be-22d4-4aac-9ac9-d85a783faff1",
   "metadata": {},
   "outputs": [],
   "source": [
    "# Load prices of SPY ETF from Yahoo Finance.\n",
    "prices = yfinance.Ticker(\"SPY\").history(period=\"12mo\")['Close'].tz_localize(None).to_frame(ETF('SPY'))"
   ]
  },
  {
   "cell_type": "code",
   "execution_count": 39,
   "id": "c764668a-3666-4fdf-9b59-ec3a2dd7f792",
   "metadata": {},
   "outputs": [],
   "source": [
    "# Instance the trading environment.\n",
    "env = TradingEnv(\n",
    "    action_space=BoxPortfolio(prices.columns, low=-1, high=+1, as_weights=True),\n",
    "    state=IState(),\n",
    "    reward=RewardLogReturn(),\n",
    "    prices=prices,\n",
    "    initial_cash=1_000_000,\n",
    "    latency=0,                # seconds\n",
    "    steps_delay=1,            # trades are implemented with a delay on one step\n",
    "    broker_fees=BrokerFees(\n",
    "        markup=0.005,         # 0.5% broker makup on deposit rate\n",
    "        proportional=0.0001,  # 0.01% fee of traded notional\n",
    "        fixed=1,              # $1 per trade\n",
    "    ),\n",
    ")"
   ]
  },
  {
   "cell_type": "code",
   "execution_count": 43,
   "id": "bfcf8bb2-4a12-400d-991e-40bbfcba28b8",
   "metadata": {},
   "outputs": [],
   "source": [
    "# OpenAI/gym protocol.\n",
    "obs = env.reset()\n",
    "done = False\n",
    "while not done:\n",
    "    action = env.action_space.sample()\n",
    "    obs, reward, done, info = env.step(action)"
   ]
  },
  {
   "cell_type": "code",
   "execution_count": 47,
   "id": "5417f85f-232d-4371-9e62-9db53b698081",
   "metadata": {},
   "outputs": [
    {
     "data": {
      "text/plain": [
       "{'_rebalancing': Rebalancing(2023-09-06 00:00:00)}"
      ]
     },
     "execution_count": 47,
     "metadata": {},
     "output_type": "execute_result"
    }
   ],
   "source": [
    "info"
   ]
  }
 ],
 "metadata": {
  "kernelspec": {
   "display_name": "Python 3 (ipykernel)",
   "language": "python",
   "name": "python3"
  },
  "language_info": {
   "codemirror_mode": {
    "name": "ipython",
    "version": 3
   },
   "file_extension": ".py",
   "mimetype": "text/x-python",
   "name": "python",
   "nbconvert_exporter": "python",
   "pygments_lexer": "ipython3",
   "version": "3.10.12"
  }
 },
 "nbformat": 4,
 "nbformat_minor": 5
}
